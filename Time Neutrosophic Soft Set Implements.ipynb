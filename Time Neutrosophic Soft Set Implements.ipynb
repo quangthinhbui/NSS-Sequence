{
 "cells": [
  {
   "cell_type": "markdown",
   "metadata": {},
   "source": [
    "# Time Neutrosophic Soft Set -- Shawkat Alkhazaleh"
   ]
  },
  {
   "cell_type": "code",
   "execution_count": 2,
   "metadata": {
    "scrolled": false
   },
   "outputs": [
    {
     "name": "stdout",
     "output_type": "stream",
     "text": [
      "=====================================================\n",
      "Python Package for Sequence of Neutrosophic Soft Sets\n",
      "Authors: Quang-Thinh BUI, My-Phuong NGO, and Bay Vo\n",
      "Version: Command Line v.1.0\n",
      "Paper: The Sequence of Neutrosophic Soft Sets and Its\n",
      "       Decision-Making Problem in Medical Diagnosis\n",
      "=====================================================\n",
      "\n",
      "The Maji’s Algorithm for t-NSS in Decision-Making Problem\n",
      "\n",
      "> Step 1. Presentation Matrix: \n",
      "[[[0.44 0.1  0.15]\n",
      "  [0.25 0.2  0.27]\n",
      "  [0.5  0.22 0.17]\n",
      "  [0.23 0.26 0.33]\n",
      "  [0.19 0.3  0.34]]\n",
      "\n",
      " [[0.41 0.1  0.14]\n",
      "  [0.35 0.21 0.2 ]\n",
      "  [0.37 0.23 0.17]\n",
      "  [0.32 0.22 0.15]\n",
      "  [0.4  0.2  0.15]]\n",
      "\n",
      " [[0.39 0.12 0.22]\n",
      "  [0.22 0.15 0.26]\n",
      "  [0.22 0.27 0.2 ]\n",
      "  [0.31 0.2  0.18]\n",
      "  [0.32 0.2  0.26]]\n",
      "\n",
      " [[0.29 0.15 0.22]\n",
      "  [0.33 0.15 0.16]\n",
      "  [0.27 0.13 0.2 ]\n",
      "  [0.37 0.18 0.17]\n",
      "  [0.27 0.19 0.32]]]\n",
      "\n",
      "> Step 2. Comparison Matrix: \n",
      "[[ 3  0  3  0  0]\n",
      " [ 3  5  3  4  5]\n",
      " [ 0 -1  0  0  3]\n",
      " [ 0  3 -2  2 -1]]\n",
      "\n",
      "> Step 3. Object Scores: \n",
      "[ 6 20  2  2]\n",
      "\n",
      "> Step 4. Output: \n",
      "2\n"
     ]
    }
   ],
   "source": [
    "import numpy as np\n",
    "from tnss import *\n",
    "######\n",
    "at1 = [[0.5,0.2,0.4],[0.7,0.1,0.2],[0.8,0.2,0.1],[0.4,0.4,0.4],[0.9,0.1,0.1]]\n",
    "bt1 = [[0.3,0.1,0.5],[0.6,0.4,0.2],[0.6,0.4,0.1],[0.1,0.3,0.4],[0.4,0.4,0.1]]\n",
    "ct1 = [[0.4,0.2,0.3],[0.2,0.2,0.6],[0.3,0.3,0.5],[0.5,0.6,0.4],[0.6,0.3,0.2]]\n",
    "dt1 = [[0.4,0.2,0.3],[0.4,0.2,0.3],[0.4,0.2,0.3],[0.5,0.3,0.4],[0.3,0.2,0.7]]\n",
    "A = np.array([at1,bt1,ct1,dt1])\n",
    "##\n",
    "at2 = [[0.7,0.2,0.3],[0.6,0.1,0.4],[0.5,0.3,0.6],[0.4,0.2,0.7],[0.2,0.4,0.6]]\n",
    "bt2 = [[0.5,0.1,0.2],[0.5,0.3,0.5],[0.3,0.4,0.6],[0.5,0.4,0.3],[0.7,0.4,0.2]]\n",
    "ct2 = [[0.5,0.3,0.4],[0.3,0.3,0.4],[0.1,0.3,0.5],[0.4,0.3,0.3],[0.4,0.3,0.5]]\n",
    "dt2 = [[0.5,0.3,0.4],[0.7,0.3,0.1],[0.4,0.2,0.3],[0.7,0.2,0.1],[0.3,0.3,0.5]]\n",
    "B = np.array([at2,bt2,ct2,dt2])\n",
    "##\n",
    "at3 = [[0.7,0.1,0.1],[0.1,0.5,0.5],[0.9,0.4,0.1],[0.3,0.5,0.4],[0.1,0.6,0.6]]\n",
    "bt3 = [[0.8,0.2,0.1],[0.5,0.3,0.2],[0.7,0.3,0.1],[0.6,0.3,0.1],[0.6,0.2,0.3]]\n",
    "ct3 = [[0.7,0.1,0.3],[0.4,0.2,0.3],[0.5,0.5,0.1],[0.5,0.2,0.2],[0.5,0.3,0.4]]\n",
    "dt3 = [[0.4,0.2,0.3],[0.4,0.2,0.3],[0.4,0.2,0.3],[0.5,0.3,0.3],[0.5,0.3,0.4]]\n",
    "C = np.array([at3,bt3,ct3,dt3])\n",
    "######\n",
    "matrix = np.array([A,B,C])\n",
    "######\n",
    "w = [0.3,0.5,0.8]\n",
    "s = [3,4,5]\n",
    "######\n",
    "welcome()\n",
    "print(\"\")\n",
    "print(\"The Maji’s Algorithm for t-NSS in Decision-Making Problem\")\n",
    "print(\"\")\n",
    "print(\"> Step 1. Presentation Matrix: \")\n",
    "m = transform(matrix,s,w)\n",
    "print(m)\n",
    "print(\"\")\n",
    "print(\"> Step 2. Comparison Matrix: \")\n",
    "mat = compmat(m,s)\n",
    "print(mat)\n",
    "print(\"\")\n",
    "print(\"> Step 3. Object Scores: \")\n",
    "print(score(m,s))\n",
    "print(\"\")\n",
    "print(\"> Step 4. Output: \")\n",
    "print(maji(m,s))"
   ]
  }
 ],
 "metadata": {
  "kernelspec": {
   "display_name": "Python 3",
   "language": "python",
   "name": "python3"
  },
  "language_info": {
   "codemirror_mode": {
    "name": "ipython",
    "version": 3
   },
   "file_extension": ".py",
   "mimetype": "text/x-python",
   "name": "python",
   "nbconvert_exporter": "python",
   "pygments_lexer": "ipython3",
   "version": "3.8.5"
  }
 },
 "nbformat": 4,
 "nbformat_minor": 4
}
