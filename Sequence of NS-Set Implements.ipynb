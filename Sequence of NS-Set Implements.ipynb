{
 "cells": [
  {
   "cell_type": "markdown",
   "metadata": {},
   "source": [
    "# The Sequence of Neutrosophic Soft Sets"
   ]
  },
  {
   "cell_type": "code",
   "execution_count": 1,
   "metadata": {},
   "outputs": [
    {
     "name": "stdout",
     "output_type": "stream",
     "text": [
      "=====================================================\n",
      "Python Package for Sequence of Neutrosophic Soft Sets\n",
      "Authors: Quang-Thinh Bui, My-Phuong Ngo, and Bay Vo\n",
      "Version: Command Line v.1.0\n",
      "Paper: The Sequence of Neutrosophic Soft Sets and Its\n",
      "       Decision-Making Problem in Medical Diagnosis\n",
      "=====================================================\n"
     ]
    }
   ],
   "source": [
    "from nssseq import *\n",
    "about()"
   ]
  },
  {
   "cell_type": "markdown",
   "metadata": {},
   "source": [
    "## 1. Neutrosophic Soft Sets"
   ]
  },
  {
   "cell_type": "code",
   "execution_count": 2,
   "metadata": {
    "scrolled": false
   },
   "outputs": [
    {
     "name": "stdout",
     "output_type": "stream",
     "text": [
      "[[[[0.2 0.4 0.1]\n",
      "   [0.2 0.9 0.3]\n",
      "   [0.5 0.4 0.3]\n",
      "   [0.7 0.3 0.1]]\n",
      "\n",
      "  [[0.4 0.7 0.4]\n",
      "   [0.9 0.7 0.5]\n",
      "   [0.1 0.8 0.4]\n",
      "   [0.1 0.6 0.2]]\n",
      "\n",
      "  [[0.5 0.3 0.2]\n",
      "   [0.4 0.5 0.2]\n",
      "   [0.4 0.4 0.7]\n",
      "   [0.7 0.2 0.9]]\n",
      "\n",
      "  [[0.9 0.9 0.8]\n",
      "   [0.2 0.6 0.4]\n",
      "   [0.3 0.8 0.1]\n",
      "   [0.2 0.5 0.3]]\n",
      "\n",
      "  [[0.2 0.4 0.3]\n",
      "   [0.1 0.9 0.1]\n",
      "   [0.7 0.4 0.5]\n",
      "   [0.4 0.8 0.2]]]]\n",
      "-----\n",
      "[[[[0.2 0.4 0.1]\n",
      "   [0.1 0.2 0.3]\n",
      "   [0.2 0.4 0.6]\n",
      "   [0.3 0.3 0.4]]\n",
      "\n",
      "  [[0.1 0.3 0.4]\n",
      "   [0.2 0.4 0.5]\n",
      "   [0.1 0.3 0.4]\n",
      "   [0.1 0.5 0.4]]\n",
      "\n",
      "  [[0.3 0.3 0.4]\n",
      "   [0.2 0.1 0.5]\n",
      "   [0.4 0.4 0.9]\n",
      "   [0.2 0.2 0.9]]\n",
      "\n",
      "  [[0.4 0.6 0.8]\n",
      "   [0.1 0.2 0.4]\n",
      "   [0.2 0.5 0.6]\n",
      "   [0.2 0.4 0.4]]\n",
      "\n",
      "  [[0.2 0.4 0.3]\n",
      "   [0.1 0.2 0.2]\n",
      "   [0.1 0.4 0.7]\n",
      "   [0.1 0.4 0.7]]]]\n",
      "-----\n",
      "[[[[0.2 0.5 0.1]\n",
      "   [0.1 0.2 0.3]\n",
      "   [0.2 0.8 0.6]\n",
      "   [0.3 0.7 0.4]]\n",
      "\n",
      "  [[0.1 0.3 0.4]\n",
      "   [0.2 0.4 0.3]\n",
      "   [0.2 0.3 0.3]\n",
      "   [0.1 0.5 0.4]]\n",
      "\n",
      "  [[0.3 0.5 0.4]\n",
      "   [0.2 0.1 0.5]\n",
      "   [0.7 0.8 0.9]\n",
      "   [0.2 0.2 0.3]]\n",
      "\n",
      "  [[0.4 0.6 0.3]\n",
      "   [0.1 0.2 0.3]\n",
      "   [0.2 0.5 0.6]\n",
      "   [0.4 0.4 0.4]]\n",
      "\n",
      "  [[0.7 0.6 0.3]\n",
      "   [0.3 0.2 0.2]\n",
      "   [0.1 0.4 0.7]\n",
      "   [0.1 0.4 0.7]]]]\n"
     ]
    }
   ],
   "source": [
    "from nssseq import *\n",
    "m,a = readfromfile(\"nss_A.txt\")\n",
    "m,b = readfromfile(\"nss_B.txt\")\n",
    "print(complement(m,a))\n",
    "print(\"-----\")\n",
    "print(intersection(m,a,b))\n",
    "print(\"-----\")\n",
    "print(union(m,a,b))"
   ]
  },
  {
   "cell_type": "markdown",
   "metadata": {},
   "source": [
    "## 2. The Subsequence of Neutrosophic Soft Sets"
   ]
  },
  {
   "cell_type": "code",
   "execution_count": 3,
   "metadata": {
    "scrolled": true
   },
   "outputs": [
    {
     "name": "stdout",
     "output_type": "stream",
     "text": [
      "1\n"
     ]
    }
   ],
   "source": [
    "from nssseq import *\n",
    "n,f = readfromfile(\"subnssseq_A.txt\")\n",
    "n,g = readfromfile(\"subnssseq_B.txt\")\n",
    "print(issubnssseq(n,f,g))"
   ]
  },
  {
   "cell_type": "markdown",
   "metadata": {},
   "source": [
    "## 3. Operations on Sequences of Neutrosophic Soft Sets"
   ]
  },
  {
   "cell_type": "code",
   "execution_count": 4,
   "metadata": {
    "scrolled": false
   },
   "outputs": [
    {
     "name": "stdout",
     "output_type": "stream",
     "text": [
      "[[[[0.5 0.8 0.1]\n",
      "   [0.9 0.9 0.4]\n",
      "   [0.6 0.2 0.2]\n",
      "   [0.6 0.9 0.9]]\n",
      "\n",
      "  [[0.6 0.3 0.3]\n",
      "   [0.5 0.7 0.4]\n",
      "   [0.3 0.7 0.2]\n",
      "   [0.3 0.5 0.4]]\n",
      "\n",
      "  [[0.5 0.6 0.8]\n",
      "   [0.7 0.5 0.2]\n",
      "   [0.9 0.2 0.7]\n",
      "   [0.8 0.5 0.3]]]\n",
      "\n",
      "\n",
      " [[[0.9 0.3 0.1]\n",
      "   [0.9 0.4 0.3]\n",
      "   [0.6 0.5 0.2]\n",
      "   [0.9 0.5 0.4]]\n",
      "\n",
      "  [[0.4 0.8 0.2]\n",
      "   [0.2 0.6 0.8]\n",
      "   [0.8 0.4 0.5]\n",
      "   [0.4 0.9 0.1]]\n",
      "\n",
      "  [[0.3 0.9 0.5]\n",
      "   [0.4 0.7 0.1]\n",
      "   [0.7 0.5 0.3]\n",
      "   [0.7 0.5 0.5]]]\n",
      "\n",
      "\n",
      " [[[0.7 0.2 0.1]\n",
      "   [0.7 0.5 0.3]\n",
      "   [0.5 0.4 0.7]\n",
      "   [0.9 0.8 0.7]]\n",
      "\n",
      "  [[0.4 0.5 0.6]\n",
      "   [0.9 0.1 0.7]\n",
      "   [0.5 0.9 0.1]\n",
      "   [0.3 0.8 0.5]]\n",
      "\n",
      "  [[0.2 0.7 0.3]\n",
      "   [0.6 0.5 0.3]\n",
      "   [0.9 0.2 0.8]\n",
      "   [0.6 0.5 0.1]]]]\n"
     ]
    }
   ],
   "source": [
    "from nssseq import *\n",
    "k,z = readfromfile(\"nssseq_A.txt\")\n",
    "print(complement(k,z))"
   ]
  },
  {
   "cell_type": "code",
   "execution_count": 5,
   "metadata": {
    "scrolled": false
   },
   "outputs": [
    {
     "name": "stdout",
     "output_type": "stream",
     "text": [
      "[[[[0.1 0.2 0.4]\n",
      "   [0.1 0.2 0.5]\n",
      "   [0.2 0.5 0.6]\n",
      "   [0.2 0.8 0.9]]\n",
      "\n",
      "  [[0.2 0.1 0.4]\n",
      "   [0.1 0.1 0.9]\n",
      "   [0.2 0.3 0.8]\n",
      "   [0.2 0.3 0.9]]\n",
      "\n",
      "  [[0.6 0.7 0.9]\n",
      "   [0.2 0.5 0.7]\n",
      "   [0.3 0.7 0.9]\n",
      "   [0.5 0.1 0.9]]]\n",
      "\n",
      "\n",
      " [[[0.4 0.4 0.7]\n",
      "   [0.3 0.3 0.5]\n",
      "   [0.2 0.1 0.6]\n",
      "   [0.2 0.3 0.6]]\n",
      "\n",
      "  [[0.2 0.3 0.3]\n",
      "   [0.1 0.1 0.7]\n",
      "   [0.1 0.4 0.7]\n",
      "   [0.1 0.1 0.9]]\n",
      "\n",
      "  [[0.3 0.4 0.8]\n",
      "   [0.2 0.2 0.6]\n",
      "   [0.2 0.2 0.7]\n",
      "   [0.3 0.5 0.8]]]\n",
      "\n",
      "\n",
      " [[[0.1 0.1 0.7]\n",
      "   [0.1 0.3 0.9]\n",
      "   [0.8 0.4 0.7]\n",
      "   [0.3 0.2 0.5]]\n",
      "\n",
      "  [[0.3 0.1 0.3]\n",
      "   [0.3 0.3 0.5]\n",
      "   [0.5 0.1 0.9]\n",
      "   [0.5 0.7 0.4]]\n",
      "\n",
      "  [[0.1 0.3 0.4]\n",
      "   [0.1 0.3 0.8]\n",
      "   [0.2 0.3 0.9]\n",
      "   [0.3 0.5 0.5]]]]\n",
      "-----\n",
      "[[[[0.1 0.2 0.3]\n",
      "   [0.1 0.6 0.5]\n",
      "   [0.2 0.5 0.6]\n",
      "   [0.7 0.9 0.9]]\n",
      "\n",
      "  [[0.6 0.5 0.4]\n",
      "   [0.1 0.1 0.9]\n",
      "   [0.7 0.5 0.8]\n",
      "   [0.7 0.6 0.9]]\n",
      "\n",
      "  [[0.7 0.8 0.9]\n",
      "   [0.3 0.6 0.7]\n",
      "   [0.3 0.7 0.5]\n",
      "   [0.5 0.1 0.9]]]\n",
      "\n",
      "\n",
      " [[[0.4 0.5 0.7]\n",
      "   [0.3 0.3 0.2]\n",
      "   [0.3 0.1 0.6]\n",
      "   [0.7 0.3 0.1]]\n",
      "\n",
      "  [[0.2 0.3 0.2]\n",
      "   [0.6 0.3 0.7]\n",
      "   [0.4 0.7 0.7]\n",
      "   [0.8 0.1 0.9]]\n",
      "\n",
      "  [[0.3 0.9 0.8]\n",
      "   [0.2 0.2 0.6]\n",
      "   [0.2 0.2 0.1]\n",
      "   [0.7 0.6 0.8]]]\n",
      "\n",
      "\n",
      " [[[0.4 0.2 0.7]\n",
      "   [0.5 0.3 0.9]\n",
      "   [0.9 0.4 0.7]\n",
      "   [0.3 0.4 0.5]]\n",
      "\n",
      "  [[0.5 0.1 0.3]\n",
      "   [0.4 0.3 0.5]\n",
      "   [0.7 0.2 0.9]\n",
      "   [0.8 0.9 0.2]]\n",
      "\n",
      "  [[0.2 0.3 0.2]\n",
      "   [0.1 0.6 0.1]\n",
      "   [0.4 0.3 0.1]\n",
      "   [0.7 0.5 0.1]]]]\n",
      "-----\n",
      "[[[[0.3 0.8 0.1]\n",
      "   [0.5 0.6 0.1]\n",
      "   [0.6 0.5 0.2]\n",
      "   [0.9 0.9 0.7]]\n",
      "\n",
      "  [[0.6 0.5 0.4]\n",
      "   [0.9 0.9 0.1]\n",
      "   [0.8 0.5 0.7]\n",
      "   [0.9 0.6 0.7]]\n",
      "\n",
      "  [[0.9 0.8 0.7]\n",
      "   [0.7 0.6 0.3]\n",
      "   [0.5 0.7 0.3]\n",
      "   [0.9 0.9 0.5]]]\n",
      "\n",
      "\n",
      " [[[0.7 0.5 0.4]\n",
      "   [0.3 0.7 0.2]\n",
      "   [0.6 0.9 0.3]\n",
      "   [0.7 0.7 0.1]]\n",
      "\n",
      "  [[0.2 0.7 0.2]\n",
      "   [0.7 0.7 0.6]\n",
      "   [0.7 0.7 0.4]\n",
      "   [0.9 0.9 0.8]]\n",
      "\n",
      "  [[0.8 0.9 0.3]\n",
      "   [0.6 0.8 0.2]\n",
      "   [0.2 0.8 0.1]\n",
      "   [0.8 0.6 0.7]]]\n",
      "\n",
      "\n",
      " [[[0.7 0.8 0.4]\n",
      "   [0.9 0.7 0.5]\n",
      "   [0.9 0.6 0.7]\n",
      "   [0.5 0.6 0.3]]\n",
      "\n",
      "  [[0.5 0.9 0.3]\n",
      "   [0.5 0.7 0.4]\n",
      "   [0.9 0.8 0.7]\n",
      "   [0.8 0.9 0.2]]\n",
      "\n",
      "  [[0.2 0.7 0.2]\n",
      "   [0.1 0.6 0.1]\n",
      "   [0.4 0.7 0.1]\n",
      "   [0.7 0.5 0.1]]]]\n"
     ]
    }
   ],
   "source": [
    "k,x = readfromfile(\"nssseq_B.txt\")\n",
    "k,y = readfromfile(\"nssseq_C.txt\")\n",
    "print(intersection(k,x,y))\n",
    "print(\"-----\")\n",
    "print(union(k,x,y))\n",
    "print(\"-----\")\n",
    "print(difference(k,x,y))"
   ]
  },
  {
   "cell_type": "markdown",
   "metadata": {},
   "source": [
    "## 4. Distance Measures on Sequences of Neutrosophic Soft Sets"
   ]
  },
  {
   "cell_type": "code",
   "execution_count": 6,
   "metadata": {
    "scrolled": true
   },
   "outputs": [
    {
     "name": "stdout",
     "output_type": "stream",
     "text": [
      "10.033333333333331\n",
      "-----\n",
      "3.5862546786641136\n",
      "-----\n",
      "1.5751259815763579\n",
      "-----\n",
      "2.2\n",
      "-----\n",
      "0.2787037037037037\n",
      "-----\n",
      "0.3450875173515468\n",
      "-----\n",
      "0.31941682706019686\n",
      "-----\n",
      "0.7333333333333334\n"
     ]
    }
   ],
   "source": [
    "from nssseq import *\n",
    "k,x = readfromfile(\"nssseq_B.txt\")\n",
    "k,y = readfromfile(\"nssseq_C.txt\")\n",
    "print(manhattan_distance(k,x,y))\n",
    "print(\"-----\")\n",
    "print(euclid_distance(k,x,y))\n",
    "print(\"-----\")\n",
    "print(lpnorm_distance(k,5,x,y))\n",
    "print(\"-----\")\n",
    "print(chebyshev_distance(k,x,y))\n",
    "print(\"-----\")\n",
    "print(manhattan_dist(k,x,y))\n",
    "print(\"-----\")\n",
    "print(euclid_dist(k,x,y))\n",
    "print(\"-----\")\n",
    "print(lpnorm_dist(k,5,x,y))\n",
    "print(\"-----\")\n",
    "print(chebyshev_dist(k,x,y))"
   ]
  },
  {
   "cell_type": "markdown",
   "metadata": {},
   "source": [
    "## 5. The Application of Subsequence of Neutrosophic Soft Sets"
   ]
  },
  {
   "cell_type": "markdown",
   "metadata": {},
   "source": [
    "### 5.1. The First Scenario"
   ]
  },
  {
   "cell_type": "code",
   "execution_count": 7,
   "metadata": {},
   "outputs": [
    {
     "name": "stdout",
     "output_type": "stream",
     "text": [
      "\n",
      "The first scenario when using NSS-Sequence for decision-making problem\n",
      "\n",
      "> Step 1. Presentation Matrix\n",
      "[[[0.3  0.25 0.38]\n",
      "  [0.48 0.38 0.38]\n",
      "  [0.5  0.22 0.15]\n",
      "  [0.22 0.22 0.38]]\n",
      "\n",
      " [[0.4  0.43 0.45]\n",
      "  [0.55 0.28 0.35]\n",
      "  [0.4  0.32 0.5 ]\n",
      "  [0.2  0.45 0.4 ]]\n",
      "\n",
      " [[0.22 0.5  0.52]\n",
      "  [0.55 0.3  0.42]\n",
      "  [0.32 0.38 0.52]\n",
      "  [0.35 0.35 0.42]]\n",
      "\n",
      " [[0.32 0.35 0.68]\n",
      "  [0.5  0.33 0.38]\n",
      "  [0.42 0.45 0.38]\n",
      "  [0.48 0.18 0.62]]\n",
      "\n",
      " [[0.5  0.4  0.57]\n",
      "  [0.55 0.5  0.32]\n",
      "  [0.43 0.4  0.4 ]\n",
      "  [0.45 0.38 0.52]]]\n",
      "\n",
      "> Step 2. Comparison Matrix\n",
      "[[ 1  0  4  2]\n",
      " [ 5  3 -1  3]\n",
      " [ 2  1 -2  2]\n",
      " [-1  0  5  0]\n",
      " [ 3  8  4  3]]\n",
      "\n",
      "> Step 3. Object Scores\n",
      "[ 7 10  3  4 18]\n",
      "\n",
      "> Step 4. Output: \n",
      "5\n"
     ]
    }
   ],
   "source": [
    "s, mat = readfromfile(\"nssseq_application.txt\")\n",
    "print(\"\")\n",
    "print(\"The first scenario when using NSS-Sequence for decision-making problem\")\n",
    "print(\"\")\n",
    "print(\"> Step 1. Presentation Matrix\")\n",
    "print(transform(s,mat))\n",
    "print(\"\")\n",
    "print(\"> Step 2. Comparison Matrix\")\n",
    "print(matrix(s,transform(s,mat)))\n",
    "print(\"\")\n",
    "print(\"> Step 3. Object Scores\")\n",
    "print(score(s,transform(s,mat)))\n",
    "print(\"\")\n",
    "print(\"> Step 4. Output: \")\n",
    "print(maji(s,transform(s,mat)))"
   ]
  },
  {
   "cell_type": "markdown",
   "metadata": {},
   "source": [
    "### 5.2. The Second Scenario"
   ]
  },
  {
   "cell_type": "code",
   "execution_count": null,
   "metadata": {},
   "outputs": [],
   "source": [
    "s, mat = readfromfile(\"nssseq_application.txt\")\n",
    "print(\"\")\n",
    "print(\"The second scenario when using NSS-Sequence for decision-making problem\")\n",
    "print(\"\")\n",
    "print(\"> Step 1 & 2. Comparison Matrices and Component Object Scores\")\n",
    "tp = []\n",
    "for i in range(s[0]):\n",
    "    print(\">> Matrix {}\".format(i+1))\n",
    "    print(matrix(s,mat[i]))\n",
    "    print(\">> Scores {}\".format(i+1))\n",
    "    print(score(s,mat[i]))\n",
    "    print(\"\")\n",
    "    tp.append(score(s,mat[i]))\n",
    "print(\"> Step 3. Object Scores\")\n",
    "print(sum(tp)/s[0])\n",
    "print(\"\")\n",
    "print(\"> Step 4. Output\")\n",
    "print(np.argmax(sum(tp)/s[0])+1)"
   ]
  }
 ],
 "metadata": {
  "kernelspec": {
   "display_name": "Python 3",
   "language": "python",
   "name": "python3"
  },
  "language_info": {
   "codemirror_mode": {
    "name": "ipython",
    "version": 3
   },
   "file_extension": ".py",
   "mimetype": "text/x-python",
   "name": "python",
   "nbconvert_exporter": "python",
   "pygments_lexer": "ipython3",
   "version": "3.8.5"
  }
 },
 "nbformat": 4,
 "nbformat_minor": 4
}
