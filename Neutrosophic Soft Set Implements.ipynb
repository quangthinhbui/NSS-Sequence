{
 "cells": [
  {
   "cell_type": "markdown",
   "metadata": {},
   "source": [
    "# Neutrosophic Soft Set -- Pabitra Kumar Maji"
   ]
  },
  {
   "cell_type": "code",
   "execution_count": 1,
   "metadata": {},
   "outputs": [
    {
     "name": "stdout",
     "output_type": "stream",
     "text": [
      "=====================================================\n",
      "Python Package for Sequence of Neutrosophic Soft Sets\n",
      "Authors: Quang-Thinh BUI, My-Phuong NGO, and Bay Vo\n",
      "Version: Command Line v.1.0\n",
      "Paper: The Sequence of Neutrosophic Soft Sets and Its\n",
      "       Decision-Making Problem in Medical Diagnosis\n",
      "=====================================================\n",
      "\n",
      "The Maji’s Algorithm for NS-Set in Decision-Making Problem\n",
      "\n",
      "> Step 1. Comparison Matrix: \n",
      "[[-2  0  3  2  4]\n",
      " [ 0  1  2  2  0]\n",
      " [ 6  6 -1  2  2]\n",
      " [ 3  4  2  1  3]\n",
      " [ 5  0  5  4  2]]\n",
      "\n",
      "> Step 2. Object Scores: \n",
      "[ 7  5 15 13 16]\n",
      "\n",
      "> Step 3. Output: \n",
      "5\n"
     ]
    }
   ],
   "source": [
    "import numpy as np\n",
    "from nss import *\n",
    "######\n",
    "at1 = [[0.6, 0.3, 0.8],[0.5, 0.2, 0.6],[0.7, 0.3, 0.4],[0.8, 0.5, 0.6],[0.6, 0.7, 0.2]]\n",
    "bt1 = [[0.7, 0.2, 0.6],[0.6, 0.3, 0.7],[0.7, 0.5, 0.6],[0.6, 0.8, 0.3],[0.8, 0.1, 0.8]]\n",
    "ct1 = [[0.8, 0.3, 0.4],[0.8, 0.5, 0.1],[0.3, 0.5, 0.6],[0.7, 0.2, 0.1],[0.7, 0.2, 0.6]]\n",
    "dt1 = [[0.7, 0.5, 0.6],[0.6, 0.8, 0.7],[0.7, 0.6, 0.8],[0.8, 0.3, 0.6],[0.8, 0.3, 0.8]]\n",
    "et1 = [[0.8, 0.6, 0.7],[0.5, 0.6, 0.8],[0.8, 0.7, 0.6],[0.7, 0.8, 0.3],[0.7, 0.2, 0.6]]\n",
    "######\n",
    "mat = np.array([at1,bt1,ct1,dt1,et1])\n",
    "######\n",
    "s = [5,5]\n",
    "######\n",
    "welcome()\n",
    "print(\"\")\n",
    "print(\"The Maji’s Algorithm for NS-Set in Decision-Making Problem\")\n",
    "print(\"\")\n",
    "print(\"> Step 1. Comparison Matrix: \")\n",
    "print(compmat(mat,s))\n",
    "print(\"\")\n",
    "print(\"> Step 2. Object Scores: \")\n",
    "print(score(mat,s))\n",
    "print(\"\")\n",
    "print(\"> Step 3. Output: \")\n",
    "print(maji(mat,s))"
   ]
  }
 ],
 "metadata": {
  "kernelspec": {
   "display_name": "Python 3",
   "language": "python",
   "name": "python3"
  },
  "language_info": {
   "codemirror_mode": {
    "name": "ipython",
    "version": 3
   },
   "file_extension": ".py",
   "mimetype": "text/x-python",
   "name": "python",
   "nbconvert_exporter": "python",
   "pygments_lexer": "ipython3",
   "version": "3.8.5"
  }
 },
 "nbformat": 4,
 "nbformat_minor": 4
}
