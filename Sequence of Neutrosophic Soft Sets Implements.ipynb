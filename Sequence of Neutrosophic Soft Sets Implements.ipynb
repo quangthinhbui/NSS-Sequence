{
 "cells": [
  {
   "cell_type": "markdown",
   "metadata": {},
   "source": [
    "# Sequence of Neutrosophic Soft Sets"
   ]
  },
  {
   "cell_type": "markdown",
   "metadata": {},
   "source": [
    "## The First Scenario"
   ]
  },
  {
   "cell_type": "code",
   "execution_count": 1,
   "metadata": {},
   "outputs": [
    {
     "name": "stdout",
     "output_type": "stream",
     "text": [
      "=====================================================\n",
      "Python Package for Sequence of Neutrosophic Soft Sets\n",
      "Authors: Quang-Thinh BUI, My-Phuong NGO, and Bay Vo\n",
      "Version: Command Line v.1.0\n",
      "Paper: The Sequence of Neutrosophic Soft Sets and Its\n",
      "       Decision-Making Problem in Medical Diagnosis\n",
      "=====================================================\n",
      "\n",
      "The first scenario when using NSS-Sequence for decision-making problem\n",
      "\n",
      "> Step 1. Presentation Matrix\n",
      "[[[0.3  0.25 0.38]\n",
      "  [0.48 0.38 0.38]\n",
      "  [0.5  0.22 0.15]\n",
      "  [0.22 0.22 0.38]]\n",
      "\n",
      " [[0.4  0.43 0.45]\n",
      "  [0.55 0.28 0.35]\n",
      "  [0.4  0.32 0.5 ]\n",
      "  [0.2  0.45 0.4 ]]\n",
      "\n",
      " [[0.22 0.5  0.52]\n",
      "  [0.55 0.3  0.42]\n",
      "  [0.32 0.38 0.52]\n",
      "  [0.35 0.35 0.42]]\n",
      "\n",
      " [[0.32 0.35 0.68]\n",
      "  [0.5  0.33 0.38]\n",
      "  [0.42 0.45 0.38]\n",
      "  [0.48 0.18 0.62]]\n",
      "\n",
      " [[0.5  0.4  0.57]\n",
      "  [0.55 0.5  0.32]\n",
      "  [0.43 0.4  0.4 ]\n",
      "  [0.45 0.38 0.52]]]\n",
      "\n",
      "> Step 2. Comparison Matrix\n",
      "[[ 1  0  4  2]\n",
      " [ 5  3 -1  3]\n",
      " [ 2  1 -2  2]\n",
      " [-1  0  5  0]\n",
      " [ 3  8  4  3]]\n",
      "\n",
      "> Step 3. Object Scores\n",
      "[ 7 10  3  4 18]\n",
      "\n",
      "> Step 4. Output: \n",
      "5\n"
     ]
    }
   ],
   "source": [
    "import numpy as np\n",
    "from nssseq import *\n",
    "######\n",
    "s = [4,5,4]\n",
    "mat = file(\"nss.sequence.txt\",s)\n",
    "######\n",
    "welcome()\n",
    "print(\"\")\n",
    "print(\"The first scenario when using NSS-Sequence for decision-making problem\")\n",
    "print(\"\")\n",
    "print(\"> Step 1. Presentation Matrix\")\n",
    "print(transform(mat,s))\n",
    "print(\"\")\n",
    "print(\"> Step 2. Comparison Matrix\")\n",
    "print(compmat(transform(mat,s),s))\n",
    "print(\"\")\n",
    "print(\"> Step 3. Object Scores\")\n",
    "print(score(transform(mat,s),s))\n",
    "print(\"\")\n",
    "print(\"> Step 4. Output: \")\n",
    "print(maji(transform(mat,s),s))"
   ]
  },
  {
   "cell_type": "markdown",
   "metadata": {},
   "source": [
    "## The Second Scenario"
   ]
  },
  {
   "cell_type": "code",
   "execution_count": 2,
   "metadata": {
    "scrolled": false
   },
   "outputs": [
    {
     "name": "stdout",
     "output_type": "stream",
     "text": [
      "=====================================================\n",
      "Python Package for Sequence of Neutrosophic Soft Sets\n",
      "Authors: Quang-Thinh BUI, My-Phuong NGO, and Bay Vo\n",
      "Version: Command Line v.1.0\n",
      "Paper: The Sequence of Neutrosophic Soft Sets and Its\n",
      "       Decision-Making Problem in Medical Diagnosis\n",
      "=====================================================\n",
      "\n",
      "The second scenario when using NSS-Sequence for decision-making problem\n",
      "\n",
      "> Step 1 & 2. Comparison Matrices and Component Object Scores\n",
      ">> Matrix 1\n",
      "[[ 2  1  3  0]\n",
      " [-1  4 -3  7]\n",
      " [-1  3  2  1]\n",
      " [ 4  0  5  0]\n",
      " [ 7  5  6  4]]\n",
      ">> Scores 1\n",
      "[ 6  7  5  9 22]\n",
      "\n",
      ">> Matrix 2\n",
      "[[5 4 7 3]\n",
      " [3 3 3 2]\n",
      " [2 1 0 0]\n",
      " [1 8 5 3]\n",
      " [1 3 1 1]]\n",
      ">> Scores 2\n",
      "[19 11  3 17  6]\n",
      "\n",
      ">> Matrix 3\n",
      "[[-1  6  4  1]\n",
      " [ 4  2 -1  4]\n",
      " [ 8  5  4  8]\n",
      " [ 1  0  3  2]\n",
      " [ 0 -1  1 -2]]\n",
      ">> Scores 3\n",
      "[10  9 25  6 -2]\n",
      "\n",
      ">> Matrix 4\n",
      "[[ 1  3  2  2]\n",
      " [ 6  0  4  3]\n",
      " [-1  1 -1  0]\n",
      " [ 0  3  1  2]\n",
      " [ 3  6  3  8]]\n",
      ">> Scores 4\n",
      "[ 8 13 -1  6 20]\n",
      "\n",
      "> Step 3. Object Scores\n",
      "[10.75 10.    8.    9.5  11.5 ]\n",
      "\n",
      "> Step 4. Output\n",
      "5\n"
     ]
    }
   ],
   "source": [
    "import numpy as np\n",
    "from nssseq import *\n",
    "######\n",
    "s = [4,5,4]\n",
    "mat = file(\"nss.sequence.txt\",s)\n",
    "######\n",
    "welcome()\n",
    "print(\"\")\n",
    "print(\"The second scenario when using NSS-Sequence for decision-making problem\")\n",
    "print(\"\")\n",
    "print(\"> Step 1 & 2. Comparison Matrices and Component Object Scores\")\n",
    "tp = []\n",
    "for i in range(s[0]):\n",
    "    print(\">> Matrix {}\".format(i+1))\n",
    "    print(compmat(mat[i],s))\n",
    "    print(\">> Scores {}\".format(i+1))\n",
    "    print(score(mat[i],s))\n",
    "    print(\"\")\n",
    "    tp.append(score(mat[i],s))\n",
    "print(\"> Step 3. Object Scores\")\n",
    "print(sum(tp)/s[0])\n",
    "print(\"\")\n",
    "print(\"> Step 4. Output\")\n",
    "print(np.argmax(sum(tp)/s[0])+1)"
   ]
  },
  {
   "cell_type": "code",
   "execution_count": null,
   "metadata": {},
   "outputs": [],
   "source": []
  }
 ],
 "metadata": {
  "kernelspec": {
   "display_name": "Python 3",
   "language": "python",
   "name": "python3"
  },
  "language_info": {
   "codemirror_mode": {
    "name": "ipython",
    "version": 3
   },
   "file_extension": ".py",
   "mimetype": "text/x-python",
   "name": "python",
   "nbconvert_exporter": "python",
   "pygments_lexer": "ipython3",
   "version": "3.8.5"
  }
 },
 "nbformat": 4,
 "nbformat_minor": 4
}
